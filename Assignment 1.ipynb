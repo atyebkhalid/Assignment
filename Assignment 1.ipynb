{
 "cells": [
  {
   "cell_type": "code",
   "execution_count": null,
   "metadata": {},
   "outputs": [],
   "source": [
    "## 1. Calculate Area of a Circle\n",
    "r = float(input (\"Enter the radius of the circle : \"))\n",
    "print (\"The area of the circle with radius \" + str(r) + \" is: \" + str(pi * r**2))"
   ]
  },
  {
   "cell_type": "code",
   "execution_count": null,
   "metadata": {},
   "outputs": [],
   "source": [
    "## 2. Check Number either positive, negative or zero\"\n",
    "num1=int(input(\"Enter first value =\"))\n",
    "if num1 >0:\n",
    "    print(\"positive\")\n",
    "elif num1 <0:\n",
    "    print(\"negative\")\n",
    "else:\n",
    "    print(\"zero\")"
   ]
  },
  {
   "cell_type": "code",
   "execution_count": null,
   "metadata": {},
   "outputs": [],
   "source": [
    "## 3. Divisibility Check of two numbers\"\n",
    "num1=int(input(\"Enter first value =\"))\n",
    "num2=int(input(\"Enter second value =\"))\n",
    "if num1%num2 == 0:\n",
    "    print(\"Numbers are completely Divisible by each other\")\n",
    "else:\n",
    "    print(\"Numbers are not Divisible by each other\")"
   ]
  },
  {
   "cell_type": "code",
   "execution_count": 9,
   "metadata": {},
   "outputs": [
    {
     "name": "stdout",
     "output_type": "stream",
     "text": [
      "Enter the radius of the circle : 6\n",
      "The volume of the sphere with radius 6.0 is: 904.7786842338603\n"
     ]
    }
   ],
   "source": [
    "## Write a Python program to get the volume of a sphere, please take the radius as input from user\n",
    "r = float(input (\"Enter the radius of the circle : \"))\n",
    "pi = 3.1415926535897931\n",
    "print (\"The volume of the sphere with radius \" + str(r) + \" is: \" + str(4.0/3.0*pi* r**3) )"
   ]
  },
  {
   "cell_type": "code",
   "execution_count": null,
   "metadata": {},
   "outputs": [],
   "source": [
    "## 5. Copy string n times\n",
    "string= input(\"Enter string:\")\n",
    "print(string*4)"
   ]
  },
  {
   "cell_type": "code",
   "execution_count": null,
   "metadata": {},
   "outputs": [],
   "source": [
    "## 6. Check if number is Even or Odd\n",
    "num1= int(input(\"Enter number:\"))\n",
    "if num1%2 ==0:\n",
    "    print(\"even\")\n",
    "else:\n",
    "    print(\"odd\")"
   ]
  },
  {
   "cell_type": "code",
   "execution_count": null,
   "metadata": {},
   "outputs": [],
   "source": [
    "##  7. Vowel Tester\n",
    "letter=input(\"Enter any letter to find it's a vowel:\")\n",
    "if(letter=='a'||letter=='e'||letter=='i'||letter=='o'||letter=='u'||\n",
    "  letter=='A'||letter=='E'||letter=='I'||letter=='O'||letter=='U'):\n",
    "    print(\"letter is a vowel\")\n",
    "else:\n",
    "    print(\"letter is not a vowel\")"
   ]
  },
  {
   "cell_type": "code",
   "execution_count": null,
   "metadata": {},
   "outputs": [],
   "source": [
    "## 8. Triangle area\n",
    "b = float(input('Enter first side: '))\n",
    "h = float(input('Enter second side: '))\n",
    "print (\"The area of the triangle is: \" + str(b*h/2) )"
   ]
  },
  {
   "cell_type": "code",
   "execution_count": null,
   "metadata": {},
   "outputs": [],
   "source": [
    "## 9. Calculate Interest\n",
    "p = float(input('Please enter principal amount:'))\n",
    "r = float(input('Please enter rate of interest:'))\n",
    "t = float(input('Please enter number of years:'))\n",
    "\n",
    "CI = (p * r * t) / 100\n",
    "print(\"After +\"str(t)\"+ years your principal amount +\"str(p)\"+ over an interest rate of +\"str(r)\"+ % will be \",CI)"
   ]
  },
  {
   "cell_type": "code",
   "execution_count": 2,
   "metadata": {},
   "outputs": [
    {
     "name": "stdout",
     "output_type": "stream",
     "text": [
      "5.656854249492381\n"
     ]
    }
   ],
   "source": [
    "## 10. Euclidean distance\n",
    "import math\n",
    "pt1 = [2, 4]\n",
    "pt2 = [6, 8]\n",
    "distance = math.sqrt( ((pt1[0]-pt2[0])**2)+((pt1[1]-pt2[1])**2) )\n",
    "\n",
    "print(distance)"
   ]
  },
  {
   "cell_type": "code",
   "execution_count": 5,
   "metadata": {},
   "outputs": [
    {
     "name": "stdout",
     "output_type": "stream",
     "text": [
      "Input your height: \n",
      "Feet: 5\n",
      "Inches: 2\n",
      "Your height is : 157 cm.\n"
     ]
    }
   ],
   "source": [
    "## 11. Feet to Centimeter Converter\n",
    "print(\"Input your height: \")\n",
    "hei_ft = int(input(\"Feet: \"))\n",
    "hei_inch = int(input(\"Inches: \"))\n",
    "\n",
    "hei_inch += hei_ft * 12\n",
    "hei_cm = round(hei_inch * 2.54, 1)\n",
    "\n",
    "print(\"Your height is :\"+hei_cm+\" cm.\"  )"
   ]
  },
  {
   "cell_type": "code",
   "execution_count": null,
   "metadata": {},
   "outputs": [],
   "source": [
    "## 12. BMI Calculator\n",
    "print(\"Input your height(m) and weight(kg). \")\n",
    "height = float(input(\"Input your height: \"))\n",
    "weight = float(input(\"Input your weight: \"))\n",
    "print(\"Your body mass index is:\"+ round(weight / (height * height), 2)+\"\")"
   ]
  },
  {
   "cell_type": "code",
   "execution_count": null,
   "metadata": {},
   "outputs": [],
   "source": [
    "## 13. Sum of n Positive Integers\n",
    "n = int(input(\"Input a Positive integer: \"))\n",
    "sum_num = (n * (n + 1)) / 2\n",
    "print(sum_num)"
   ]
  },
  {
   "cell_type": "code",
   "execution_count": null,
   "metadata": {},
   "outputs": [],
   "source": [
    "## 14. Digits Sum of a Number\n",
    "num = int(input(\"Input a four digit numbers: \"))\n",
    "x  = num //1000\n",
    "x1 = (num - x*1000)//100\n",
    "x2 = (num - x*1000 - x1*100)//10\n",
    "x3 = num - x*1000 - x1*100 - x2*10\n",
    "print(\"The sum of digits in the number is\", x+x1+x2+x3"
   ]
  }
 ],
 "metadata": {
  "kernelspec": {
   "display_name": "Python 3",
   "language": "python",
   "name": "python3"
  },
  "language_info": {
   "codemirror_mode": {
    "name": "ipython",
    "version": 3
   },
   "file_extension": ".py",
   "mimetype": "text/x-python",
   "name": "python",
   "nbconvert_exporter": "python",
   "pygments_lexer": "ipython3",
   "version": "3.7.3"
  }
 },
 "nbformat": 4,
 "nbformat_minor": 2
}
